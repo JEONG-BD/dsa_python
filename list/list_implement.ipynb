{
 "cells": [
  {
   "cell_type": "markdown",
   "id": "38b974df",
   "metadata": {},
   "source": [
    "## Python List"
   ]
  },
  {
   "cell_type": "code",
   "execution_count": 4,
   "id": "afcf10b2",
   "metadata": {},
   "outputs": [
    {
     "name": "stdout",
     "output_type": "stream",
     "text": [
      "56\n",
      "88\n",
      "0x112a95570\n",
      "0x112a8b530\n",
      "0x112a8a530\n",
      "0x112a89870\n",
      "['coffee2', 'coffee3', 'coffee4']\n"
     ]
    }
   ],
   "source": [
    "import sys\n",
    "import traceback\n",
    "from typing import List\n",
    "\n",
    "\n",
    "def print_list_size(input_arr: List):\n",
    "    print(sys.getsizeof(input_arr))\n",
    "\n",
    "\n",
    "def list_pop(input_arr: List):\n",
    "    input_arr.pop()\n",
    "\n",
    "\n",
    "def list_insert(input_arr: List, num: int, idx: int):\n",
    "    input_arr.insert(idx, num)\n",
    "\n",
    "\n",
    "def list_append(input_arr: List, val: int):\n",
    "    input_arr.append(val)\n",
    "\n",
    "\n",
    "def list_remove(input_arr: List, num: int):\n",
    "    try:\n",
    "        input_arr.remove(num)\n",
    "    except ValueError:\n",
    "        print(traceback.format_exc())\n",
    "\n",
    "\n",
    "def print_element_id(input_arr: List):\n",
    "    for i in input_arr:\n",
    "        print(hex(id(i)))\n",
    "\n",
    "\n",
    "# sequential\n",
    "if __name__ == '__main__':\n",
    "    list_a = []\n",
    "    print_list_size(list_a)\n",
    "    list_a= [\"coffee1\", \"coffee2\", \"coffee3\", \"coffee4\"]\n",
    "    print_list_size(list_a)\n",
    "    list_append(list_a, 1)\n",
    "    list_pop(list_a)\n",
    "    print_element_id(list_a)\n",
    "    list_remove(list_a, \"coffee1\")\n",
    "    print(list_a)\n"
   ]
  },
  {
   "cell_type": "markdown",
   "id": "c1fd7970",
   "metadata": {},
   "source": [
    "## ctypes Python List "
   ]
  },
  {
   "cell_type": "code",
   "execution_count": null,
   "id": "92b306a9",
   "metadata": {},
   "outputs": [],
   "source": [
    "import ctypes \n",
    "\n",
    "def get_list_capacity(lst):\n",
    "    class PyListObject(ctypes.Structure):\n",
    "        _fields_ = [\n",
    "            ('ob_refcnt', ctypes.c_ssize_t),\n",
    "            ('ob_type', ctypes.c_void_p),\n",
    "            ('ob_size', ctypes.c_ssize_t),\n",
    "            ('allocated', ctypes.c_ssize_t),\n",
    "        ]\n",
    "\n",
    "    lst_address = id(lst)\n",
    "    py_obj = PyListObject.from_address(lst_address)\n",
    "\n",
    "    print(f\"Reference count: {py_obj.ob_refcnt}\")\n",
    "    print(f\"Type pointer address: {hex(py_obj.ob_type)}\")\n",
    "    print(f\"Number of elements (size): {py_obj.ob_size}\")\n",
    "    print(f\"Allocated capacity: {py_obj.allocated}\")\n",
    "    return py_obj.allocated"
   ]
  }
 ],
 "metadata": {
  "kernelspec": {
   "display_name": "Python 3",
   "language": "python",
   "name": "python3"
  },
  "language_info": {
   "codemirror_mode": {
    "name": "ipython",
    "version": 3
   },
   "file_extension": ".py",
   "mimetype": "text/x-python",
   "name": "python",
   "nbconvert_exporter": "python",
   "pygments_lexer": "ipython3",
   "version": "3.11.12"
  }
 },
 "nbformat": 4,
 "nbformat_minor": 5
}
