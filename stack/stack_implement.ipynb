{
 "cells": [
  {
   "cell_type": "markdown",
   "id": "f5bfa3ea",
   "metadata": {},
   "source": [
    "## Stack Implementation\n"
   ]
  },
  {
   "cell_type": "code",
   "execution_count": 15,
   "id": "3aec7e27",
   "metadata": {},
   "outputs": [
    {
     "name": "stdout",
     "output_type": "stream",
     "text": [
      "stack is empty\n",
      "Stack items: [0, 1, 2, 3, 4, 5, 6, 7, 8, 9]\n",
      "Stack items: []\n"
     ]
    }
   ],
   "source": [
    "class Stack: \n",
    "    \n",
    "    def __init__(self):\n",
    "        self.items = [] \n",
    "        \n",
    "    def push(self, val):\n",
    "        self.items.append(val)\n",
    "    \n",
    "    def pop(self):\n",
    "        try :\n",
    "            self.items.pop()\n",
    "        except IndexError:\n",
    "            print(\"stack is empty\")\n",
    "\n",
    "    def top(self):\n",
    "        try: \n",
    "            return self.items[-1] \n",
    "        except IndexError:\n",
    "            print(\"stack is empty\")\n",
    "        \n",
    "    def __len__(self):\n",
    "        return len(self.items)\n",
    "    \n",
    "    def __str__(self):\n",
    "        return f\"Stack items: {self.items}\"\n",
    "    \n",
    "\n",
    "if __name__ == '__main__':\n",
    "    stack = Stack()\n",
    "    #test.push(10) \n",
    "    stack.top()\n",
    "\n",
    "    for i in range(10):\n",
    "        stack.push(i)\n",
    "    print(stack)\n",
    "        \n",
    "    for i in range(10):\n",
    "        stack.pop()\n",
    "    print(stack)"
   ]
  },
  {
   "cell_type": "markdown",
   "id": "8a887a03",
   "metadata": {},
   "source": [
    "## Stack Implemetation 2"
   ]
  },
  {
   "cell_type": "code",
   "execution_count": null,
   "id": "deee3ce3",
   "metadata": {},
   "outputs": [
    {
     "name": "stdout",
     "output_type": "stream",
     "text": [
      "stack []\n"
     ]
    }
   ],
   "source": [
    "from typing import (\n",
    "    Generic, \n",
    "    TypeVar, \n",
    "    List, \n",
    "    Optional)\n",
    "\n",
    "T = TypeVar('T')\n",
    "\n",
    "class Stack(Generic[T]): \n",
    "    def __init__(self) -> None:\n",
    "        self.items: List[T] = []\n",
    "    \n",
    "    def push(self, val: T) -> None:\n",
    "        self.items.append(val) \n",
    "    \n",
    "    def pop(self) -> Optional[T]:\n",
    "        if self.items:\n",
    "            return self.items.pop()\n",
    "        return None \n",
    "    \n",
    "    def __len__(self) -> int:\n",
    "        return len(self.items)\n",
    "    \n",
    "    def top(self) -> Optional[T]:\n",
    "        try: \n",
    "            return self.items[-1] \n",
    "        except IndexError:\n",
    "            print(\"stack is empty\")\n",
    "    \n",
    "    def __str__(self) -> str:\n",
    "        return f\"stack {self.items}\" \n",
    "\n",
    "\n",
    "if __name__ == '__main__':\n",
    "    input_parentheses = input()\n",
    "    stack_str = Stack[str]()\n",
    "    for i in input_parentheses:\n",
    "        if i == '(':\n",
    "            stack_str.push(i)\n",
    "        elif i == ')' :\n",
    "            before_element =stack_str.pop()\n",
    "        else: \n",
    "            print('not allowed symbol')\n",
    "    print(stack_str)"
   ]
  },
  {
   "cell_type": "markdown",
   "id": "5415c73c",
   "metadata": {},
   "source": [
    "## Stack Time Complexity \n",
    "| Operation | Description     | Time Complexity |\n",
    "|--|--|--| \n",
    "|PUSH|Add to top|O(1)|\n",
    "|POP|Remove from pop|O(N)|\n",
    "|SESARCH|Find element|O(N)|"
   ]
  },
  {
   "cell_type": "markdown",
   "id": "d0544dc2",
   "metadata": {
    "vscode": {
     "languageId": "bat"
    }
   },
   "source": [
    "## Stack Example Calculator\n",
    "### Postfix Notation \n",
    "### Infix Notation \n",
    "- A + B * C\n",
    "- A B C * + \n",
    "- A * B + C \n",
    "- A B * C + \n"
   ]
  },
  {
   "cell_type": "code",
   "execution_count": 37,
   "id": "39fe67a5",
   "metadata": {},
   "outputs": [
    {
     "name": "stdout",
     "output_type": "stream",
     "text": [
      "1\n",
      "2\n",
      "3\n",
      "['1', '2', '3', '+', '+']\n"
     ]
    }
   ],
   "source": [
    "out_stack = [] #list \n",
    "op_stack = Stack[str]() \n",
    "input_values = input() \n",
    "\n",
    "for i in input_values:\n",
    "    if i.isdigit(): \n",
    "        print(int(i))\n",
    "        out_stack.append(i)\n",
    "    elif i == '(': \n",
    "        op_stack.push(i)\n",
    "    elif i == ')':\n",
    "        while len(op_stack) > 0:\n",
    "            op = op_stack.pop()\n",
    "            if op == '(':\n",
    "                break\n",
    "            out_stack.append(op)    \n",
    "    elif i in '*-+/':\n",
    "        op_stack.push(i)\n",
    "\n",
    "while len(op_stack) > 0:\n",
    "    out_stack.append(op_stack.pop())\n",
    "\n",
    "print(out_stack)"
   ]
  },
  {
   "cell_type": "code",
   "execution_count": null,
   "id": "acc11aeb",
   "metadata": {},
   "outputs": [
    {
     "name": "stdout",
     "output_type": "stream",
     "text": [
      "stack ['6']\n",
      "stack ['6', '3']\n",
      "stack ['6', '3', '2']\n",
      "stack ['6', '2', '3', '-', '4']\n",
      "stack ['6', '2', '3', '4', '*', '-', '+']\n"
     ]
    }
   ],
   "source": [
    "\n",
    "def postfix_to_prefix(postfix: List[str]):\n",
    "    stack_prefix = Stack[str]()\n",
    "\n",
    "    for token in postfix :\n",
    "        if token.isdigit():\n",
    "            stack_prefix.push(token)\n",
    "            print(stack_prefix)\n",
    "        elif token in '*-+/':\n",
    "            op2 = stack_prefix.pop()\n",
    "            op1 = stack_prefix.pop()\n",
    "            new_expr = f\"{token} {op1} {op2}\"\n",
    "            tokens = new_expr.split()                # [\"*\", \"-\", \"3\", \"2\", \"4\"]\n",
    "            for tok in reversed(tokens):             # 스택은 LIFO이므로 역순으로 push\n",
    "                stack_prefix.push(tok)  \n",
    "        else:\n",
    "            ValueError(\"Invalid token : {token}\")\n",
    "\n",
    "    return stack_prefix\n",
    "result = postfix_to_prefix(['6', '3', '2', '-', '4', '*', '+'])\n",
    "print(result)"
   ]
  },
  {
   "cell_type": "code",
   "execution_count": 1,
   "id": "b4adfcf6",
   "metadata": {},
   "outputs": [
    {
     "name": "stdout",
     "output_type": "stream",
     "text": [
      "['1', '2', '3', '*', '+']\n",
      "Stack : [10]\n"
     ]
    }
   ],
   "source": [
    "from typing import (Generic, TypeVar, Optional, List)\n",
    "import operator\n",
    "\n",
    "T = TypeVar('T')\n",
    "\n",
    "class Stack(Generic[T]):\n",
    "    def __init__(self)-> None:\n",
    "        self.items:List[T] = [] \n",
    "    \n",
    "    def push(self, val:int)-> None: \n",
    "        self.items.append(val) \n",
    "    \n",
    "    def pop(self)-> Optional[T]:\n",
    "        return self.items.pop() \n",
    "        \n",
    "    def __len__(self)-> int:\n",
    "        return len(self.items)\n",
    "    \n",
    "    def __repr__(self)-> str:\n",
    "        return f'Stack : {self.items}'\n",
    "    \n",
    "    def top(self) -> Optional[int]: \n",
    "        return self.items[-1] \n",
    "\n",
    "def precedence(in_operator :  str ) -> int:\n",
    "    if in_operator in ('*', '/'):\n",
    "        return 2 \n",
    "    elif in_operator in ('+' , '-'):\n",
    "        return 1 \n",
    "    else :\n",
    "        0\n",
    "\n",
    "def calculate(in_operand1: str, in_operand_2: str, operator: str) -> int: \n",
    "    if operator == '+':\n",
    "        return int(in_operand1) + int(in_operand_2)\n",
    "    elif operator == '-':\n",
    "        return int(in_operand1) - int(in_operand_2)\n",
    "    elif operator == '*':\n",
    "        return int(in_operand1) * int(in_operand_2)\n",
    "    elif operator == '/':\n",
    "        return int(in_operand1) / int(in_operand_2)\n",
    "    \n",
    "def calculate_v2(in_operand1: str, in_operand2: int, op: str) -> int:\n",
    "    \"\"\"_summary_\n",
    "    operator 를 이용한 refactoring \n",
    "    Args:\n",
    "        in_operand1 (str): _description_\n",
    "        in_operand2 (int): _description_\n",
    "        op (str): _description_\n",
    "\n",
    "    Raises:\n",
    "        ValueError: _description_\n",
    "\n",
    "    Returns:\n",
    "        int: _description_\n",
    "    \"\"\"\n",
    "    ops = {\n",
    "        '+': operator.add,\n",
    "        '-': operator.sub,\n",
    "        '*': operator.mul,\n",
    "        '/': operator.floordiv  \n",
    "    }\n",
    "\n",
    "    if op not in ops:\n",
    "        raise ValueError(f\"Unsupported operator: {op}\")\n",
    "    \n",
    "    return ops[op](int(in_operand1), int(in_operand2))\n",
    "\n",
    "def postfix_execute_calculate(postfix: List[str]):\n",
    "    operand_stack = Stack[int]() \n",
    "    for token in postfix: \n",
    "        if token.isdigit():\n",
    "            operand_stack.push(token) \n",
    "        elif token in ('+' , '-', '*', '/'):\n",
    "            op2 = operand_stack.pop()\n",
    "            op1 = operand_stack.pop() \n",
    "            operand_stack.push(calculate(\n",
    "                in_operand1= op1,\n",
    "                in_operand_2=op2,\n",
    "                operator=token))\n",
    "        else :\n",
    "            raise ValueError \n",
    "    return operand_stack\n",
    "    \n",
    "            \n",
    "def infix_to_postfix(infix: List[str]):\n",
    "    operator_stack = Stack[str]() \n",
    "    postfix = []\n",
    "\n",
    "    for token in infix:\n",
    "        if token.isdigit():\n",
    "           postfix.append(token)\n",
    "        elif token == '(':\n",
    "           operator_stack.push(token) \n",
    "        elif token == ')':\n",
    "            while len(operator_stack) > 0:\n",
    "                operator = operator_stack.pop()\n",
    "                if operator == '(':\n",
    "                    break \n",
    "                postfix.append(operator) \n",
    "        elif token in '+-*/': \n",
    "            \n",
    "            while len(operator_stack) > 0 and operator_stack.top() != '(' and precedence(operator_stack.top()) >= precedence(token):\n",
    "                postfix.append(operator_stack.pop())\n",
    "    \n",
    "            operator_stack.push(token)\n",
    "    \n",
    "    while len(operator_stack) > 0: \n",
    "        postfix.append(operator_stack.pop())\n",
    "        \n",
    "    return postfix\n",
    "\n",
    "if __name__ == '__main__':\n",
    "    input_test = ['1', '+', '2', '*', '3']\n",
    "    postfix_result = infix_to_postfix(input_test)\n",
    "    print(postfix_result)\n",
    "    calculate_result = postfix_execute_calculate(['6', '3', '2', '-', '4', '*', '+']) \n",
    "    print(calculate_result)"
   ]
  }
 ],
 "metadata": {
  "kernelspec": {
   "display_name": "Python 3",
   "language": "python",
   "name": "python3"
  },
  "language_info": {
   "codemirror_mode": {
    "name": "ipython",
    "version": 3
   },
   "file_extension": ".py",
   "mimetype": "text/x-python",
   "name": "python",
   "nbconvert_exporter": "python",
   "pygments_lexer": "ipython3",
   "version": "3.11.12"
  }
 },
 "nbformat": 4,
 "nbformat_minor": 5
}
