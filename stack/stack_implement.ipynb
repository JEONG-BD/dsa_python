{
 "cells": [
  {
   "cell_type": "markdown",
   "id": "f5bfa3ea",
   "metadata": {},
   "source": [
    "## Stack Implementation\n"
   ]
  },
  {
   "cell_type": "code",
   "execution_count": 15,
   "id": "3aec7e27",
   "metadata": {},
   "outputs": [
    {
     "name": "stdout",
     "output_type": "stream",
     "text": [
      "stack is empty\n",
      "Stack items: [0, 1, 2, 3, 4, 5, 6, 7, 8, 9]\n",
      "Stack items: []\n"
     ]
    }
   ],
   "source": [
    "class Stack: \n",
    "    \n",
    "    def __init__(self):\n",
    "        self.items = [] \n",
    "        \n",
    "    def push(self, val):\n",
    "        self.items.append(val)\n",
    "    \n",
    "    def pop(self):\n",
    "        try :\n",
    "            self.items.pop()\n",
    "        except IndexError:\n",
    "            print(\"stack is empty\")\n",
    "\n",
    "    def top(self):\n",
    "        try: \n",
    "            return self.items[-1] \n",
    "        except IndexError:\n",
    "            print(\"stack is empty\")\n",
    "        \n",
    "    def __len__(self):\n",
    "        return len(self.items)\n",
    "    \n",
    "    def __str__(self):\n",
    "        return f\"Stack items: {self.items}\"\n",
    "    \n",
    "\n",
    "if __name__ == '__main__':\n",
    "    stack = Stack()\n",
    "    #test.push(10) \n",
    "    stack.top()\n",
    "\n",
    "    for i in range(10):\n",
    "        stack.push(i)\n",
    "    print(stack)\n",
    "        \n",
    "    for i in range(10):\n",
    "        stack.pop()\n",
    "    print(stack)"
   ]
  },
  {
   "cell_type": "markdown",
   "id": "8a887a03",
   "metadata": {},
   "source": [
    "## Stack Implemetation 2"
   ]
  },
  {
   "cell_type": "code",
   "execution_count": 17,
   "id": "deee3ce3",
   "metadata": {},
   "outputs": [
    {
     "name": "stdout",
     "output_type": "stream",
     "text": [
      "stack []\n"
     ]
    }
   ],
   "source": [
    "from typing import (\n",
    "    Generic, \n",
    "    TypeVar, \n",
    "    List, \n",
    "    Optional)\n",
    "\n",
    "T = TypeVar('T')\n",
    "\n",
    "class Stack(Generic[T]): \n",
    "    def __init__(self) -> None:\n",
    "        self.items: List[T] = []\n",
    "    \n",
    "    def push(self, val: T):\n",
    "        self.items.append(val) \n",
    "    \n",
    "    def pop(self) -> Optional[T]:\n",
    "        if self.items:\n",
    "            return self.items.pop()\n",
    "        return None \n",
    "    \n",
    "    def __len__(self):\n",
    "        return len(self.items)\n",
    "    \n",
    "    def top(self):\n",
    "        try: \n",
    "            return self.items[-1] \n",
    "        except IndexError:\n",
    "            print(\"stack is empty\")\n",
    "    \n",
    "    def __str__(self):\n",
    "        return f\"stack {self.items}\" \n",
    "\n",
    "\n",
    "if __name__ == '__main__':\n",
    "    input_parentheses = input()\n",
    "    stack_str = Stack[str]()\n",
    "    for i in input_parentheses:\n",
    "        if i == '(':\n",
    "            stack_str.push(i)\n",
    "        elif i == ')' :\n",
    "            before_element =stack_str.pop()\n",
    "        else: \n",
    "            print('not allowed symbol')\n",
    "    print(stack_str)"
   ]
  },
  {
   "cell_type": "markdown",
   "id": "5415c73c",
   "metadata": {},
   "source": [
    "## Stack Time Complexity \n",
    "| Operation | Description     | Time Complexity |\n",
    "|--|--|--| \n",
    "|PUSH|Add to top|O(1)|\n",
    "|POP|Remove from pop|O(N)|\n",
    "|SESARCH|Find element|O(N)|"
   ]
  },
  {
   "cell_type": "markdown",
   "id": "d0544dc2",
   "metadata": {
    "vscode": {
     "languageId": "bat"
    }
   },
   "source": [
    "## Stack Example Calculator\n",
    "### Postfix Notation \n",
    "### Infix Notation \n",
    "- A + B * C\n",
    "- A B C * + \n",
    "- A * B + C \n",
    "- A B * C + \n"
   ]
  },
  {
   "cell_type": "code",
   "execution_count": 36,
   "id": "39fe67a5",
   "metadata": {},
   "outputs": [
    {
     "name": "stdout",
     "output_type": "stream",
     "text": [
      "1\n",
      "2\n",
      "3\n",
      "['1', '2', '+', '3', '*']\n"
     ]
    }
   ],
   "source": [
    "out_stack = [] #list \n",
    "op_stack = Stack[str]() \n",
    "input_values = input() \n",
    "\n",
    "for i in input_values:\n",
    "    if i.isdigit(): \n",
    "        print(int(i))\n",
    "        out_stack.append(i)\n",
    "    elif i == '(': \n",
    "        op_stack.push(i)\n",
    "    elif i == ')':\n",
    "        while len(op_stack) > 0:\n",
    "            op = op_stack.pop()\n",
    "            if op == '(':\n",
    "                break\n",
    "            out_stack.append(op)    \n",
    "    elif i in '*-+/':\n",
    "        op_stack.push(i)\n",
    "\n",
    "while len(op_stack) > 0:\n",
    "    out_stack.append(op_stack.pop())\n",
    "\n",
    "print(out_stack)"
   ]
  }
 ],
 "metadata": {
  "kernelspec": {
   "display_name": "Python 3",
   "language": "python",
   "name": "python3"
  },
  "language_info": {
   "codemirror_mode": {
    "name": "ipython",
    "version": 3
   },
   "file_extension": ".py",
   "mimetype": "text/x-python",
   "name": "python",
   "nbconvert_exporter": "python",
   "pygments_lexer": "ipython3",
   "version": "3.11.12"
  }
 },
 "nbformat": 4,
 "nbformat_minor": 5
}
