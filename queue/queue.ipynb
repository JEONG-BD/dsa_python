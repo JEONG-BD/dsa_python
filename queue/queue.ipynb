{
 "cells": [
  {
   "cell_type": "markdown",
   "id": "4affbed4",
   "metadata": {},
   "source": [
    "### Queue Implementation\n"
   ]
  },
  {
   "cell_type": "code",
   "execution_count": 19,
   "id": "3612053b",
   "metadata": {},
   "outputs": [
    {
     "name": "stdout",
     "output_type": "stream",
     "text": [
      "Queue [0, 1, 2, 3, 4, 5, 6, 7, 8, 9]\n",
      "Queue [1, 2, 3, 4, 5, 6, 7, 8, 9]\n",
      "Queue [2, 3, 4, 5, 6, 7, 8, 9]\n",
      "Queue [3, 4, 5, 6, 7, 8, 9]\n",
      "Queue [4, 5, 6, 7, 8, 9]\n",
      "Queue [5, 6, 7, 8, 9]\n",
      "Queue [6, 7, 8, 9]\n",
      "Queue [7, 8, 9]\n",
      "Queue [8, 9]\n",
      "Queue [9]\n",
      "Queue []\n"
     ]
    }
   ],
   "source": [
    "from typing import (\n",
    "    TypeVar, \n",
    "    Generic, \n",
    "    List, \n",
    "    Optional\n",
    ")\n",
    "\n",
    "T = TypeVar('T')\n",
    "\n",
    "class Queue(Generic[T]):\n",
    "    def __init__(self) -> None:\n",
    "        self.items : List[T] = [] \n",
    "        self.front_index = 0 \n",
    "    \n",
    "    def __repr__(self) -> str:\n",
    "        return f'Queue {self.items}'\n",
    "    \n",
    "    def __len__(self) -> int: \n",
    "        return len(self.items) \n",
    "    \n",
    "    def enqueue(self, val: T) -> None:\n",
    "        self.items.append(val) \n",
    "        \n",
    "    def dequeue_physical(self) -> Optional[T]:\n",
    "        if len(self.items) == 0:\n",
    "            print('Queue is empty')\n",
    "            return None\n",
    "        return self.items.pop(0) \n",
    "    \n",
    "    def dequeue_logical(self) -> Optional[T]:\n",
    "        if self.front_index == len(self.items):\n",
    "            print('Queue is empty')\n",
    "            return None \n",
    "\n",
    "        tail = self.items[self.front_index]\n",
    "        self.front_index += 1 \n",
    "        return tail \n",
    "\n",
    "\n",
    "if __name__ == '__main__': \n",
    "    queue = Queue[int]() \n",
    "    \n",
    "    for i in range(10):\n",
    "        queue.enqueue(i)\n",
    "    \n",
    "    print(queue)\n",
    "\n",
    "    for i in range(10):\n",
    "        #queue.dequeu_logical()\n",
    "        #print(queue, len(queue), queue.front_index)\n",
    "        queue.dequeue_physical()\n",
    "        print(queue)"
   ]
  },
  {
   "cell_type": "markdown",
   "id": "05a56a0b",
   "metadata": {},
   "source": [
    "## Quque Time Complextity \n",
    "\n",
    "|Operation|Description|Time Complexity|\n",
    "|---|---|---|\n",
    "|ENQUEU|Add to tail|O(1)|\n",
    "|DEQUEU|Remove from front|O(1)|"
   ]
  },
  {
   "cell_type": "markdown",
   "id": "d9c06195",
   "metadata": {},
   "source": [
    "## Quque Time Complextity \n"
   ]
  },
  {
   "cell_type": "code",
   "execution_count": 20,
   "id": "33bc2bc0",
   "metadata": {},
   "outputs": [
    {
     "name": "stdout",
     "output_type": "stream",
     "text": [
      "Queue [5]\n"
     ]
    }
   ],
   "source": [
    "def josephus(n: int, k: int) -> int:\n",
    "    queue = Queue[int]()\n",
    "    \n",
    "    for i in range(n):\n",
    "        queue.enqueue(i+1)\n",
    "    \n",
    "    while len(queue) > 1:\n",
    "        for i in range(k-1): \n",
    "            queue.enqueue(queue.dequeue_physical())\n",
    "        queue.dequeue_physical()\n",
    "    print(queue)\n",
    "    \n",
    "    \n",
    "josephus(6, 2)"
   ]
  }
 ],
 "metadata": {
  "kernelspec": {
   "display_name": "Python 3",
   "language": "python",
   "name": "python3"
  },
  "language_info": {
   "codemirror_mode": {
    "name": "ipython",
    "version": 3
   },
   "file_extension": ".py",
   "mimetype": "text/x-python",
   "name": "python",
   "nbconvert_exporter": "python",
   "pygments_lexer": "ipython3",
   "version": "3.11.12"
  }
 },
 "nbformat": 4,
 "nbformat_minor": 5
}
