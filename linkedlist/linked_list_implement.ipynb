{
 "cells": [
  {
   "cell_type": "markdown",
   "id": "22da414b",
   "metadata": {},
   "source": [
    "## Linked List Implement\n",
    "\n",
    "### head node \n",
    "### \n",
    "- 이전 Node 다음 node를 알고 있다는 가정하에 O(1\n",
    ")"
   ]
  },
  {
   "cell_type": "code",
   "execution_count": 12,
   "id": "9430de9c",
   "metadata": {},
   "outputs": [
    {
     "name": "stdout",
     "output_type": "stream",
     "text": [
      "9\n"
     ]
    }
   ],
   "source": [
    "from typing import( \n",
    "    TypeVar, \n",
    "    Optional, \n",
    "    List,\n",
    "    Generic\n",
    ")\n",
    "\n",
    "class Node():\n",
    "    def __init__(self, key: None):\n",
    "        self.__key = key  \n",
    "        self.__next = None \n",
    "        \n",
    "    # def __repr__(self) -> str:\n",
    "    #     return f'Node.key {self.__key} {self.__next}'\n",
    "\n",
    "    def __str__(self) -> str: \n",
    "        return str(self.__key)\n",
    "\n",
    "    @property\n",
    "    def next(self):\n",
    "        return self.__next \n",
    "    \n",
    "    @next.setter \n",
    "    def next(self, link: int):\n",
    "        self.__next = link \n",
    "    \n",
    "    \n",
    "if __name__ == '__main__':\n",
    "    a = Node(3) \n",
    "    b = Node(9)\n",
    "    c = Node(1)\n",
    "    \n",
    "    a.next = b  \n",
    "    b.next = c \n",
    "    print(a.next)\n"
   ]
  },
  {
   "cell_type": "code",
   "execution_count": null,
   "id": "21a9c812",
   "metadata": {},
   "outputs": [],
   "source": [
    "class SinglyLinkedList:\n",
    "    \n",
    "    def __init__(self):\n",
    "        self.haed = None \n",
    "        self.size = 0\n",
    "    \n",
    "    def insert():\n",
    "        pass \n",
    "    \n",
    "    def rempve():\n",
    "        pass \n",
    "        \n",
    "    def __len__(self):\n",
    "        return self.size"
   ]
  }
 ],
 "metadata": {
  "kernelspec": {
   "display_name": "Python 3",
   "language": "python",
   "name": "python3"
  },
  "language_info": {
   "codemirror_mode": {
    "name": "ipython",
    "version": 3
   },
   "file_extension": ".py",
   "mimetype": "text/x-python",
   "name": "python",
   "nbconvert_exporter": "python",
   "pygments_lexer": "ipython3",
   "version": "3.11.12"
  }
 },
 "nbformat": 4,
 "nbformat_minor": 5
}
